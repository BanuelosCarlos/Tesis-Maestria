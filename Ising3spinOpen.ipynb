{
 "cells": [
  {
   "cell_type": "code",
   "execution_count": 1,
   "id": "e91a4cd4-a044-4d2d-8d65-f51434af32c9",
   "metadata": {},
   "outputs": [],
   "source": [
    "using PyPlot\n",
    "using QuantumOptics"
   ]
  },
  {
   "cell_type": "code",
   "execution_count": 2,
   "id": "d6d8036d-b0b6-4a6b-8512-817fc99d3d0c",
   "metadata": {},
   "outputs": [],
   "source": [
    "#Definimos la base\n",
    "b_spin = SpinBasis(1//2);\n",
    "#Estados\n",
    "Ψ0=spindown(b_spin)⊗spindown(b_spin)⊗spindown(b_spin);\n",
    "Ψ1=spinup(b_spin)⊗spindown(b_spin)⊗spindown(b_spin);\n",
    "Ψ2=spindown(b_spin)⊗spinup(b_spin)⊗spindown(b_spin);\n",
    "Ψ3=spinup(b_spin)⊗spinup(b_spin)⊗spindown(b_spin);\n",
    "Ψ4=spindown(b_spin)⊗spindown(b_spin)⊗spinup(b_spin);\n",
    "Ψ5=spinup(b_spin)⊗spindown(b_spin)⊗spinup(b_spin);\n",
    "Ψ6=spindown(b_spin)⊗spinup(b_spin)⊗spinup(b_spin);\n",
    "Ψ7=spinup(b_spin)⊗spinup(b_spin)⊗spinup(b_spin);"
   ]
  },
  {
   "cell_type": "code",
   "execution_count": 6,
   "id": "80f4c3e5-7e0d-4401-b53a-c5a89bad8da2",
   "metadata": {},
   "outputs": [
    {
     "data": {
      "text/plain": [
       "2-element Vector{Float64}:\n",
       " 5.0\n",
       " 4.999375"
      ]
     },
     "execution_count": 6,
     "metadata": {},
     "output_type": "execute_result"
    }
   ],
   "source": [
    "#Parametros\n",
    "#frecuecnias\n",
    "ω = 1.0;\n",
    "ω₁ = ω;\n",
    "ω₂ = 2*ω;\n",
    "ω₃ = 4*ω;\n",
    "#demas\n",
    "g=0.1/4;\n",
    "w=1;\n",
    "ν=[5,5-g^2];\n",
    "#println(f);\n",
    "#ancho=\n",
    "#ν=Array(3.99:ancho/30:4.01);\n",
    "t0 = Array(0:0.01:2*pi);\n",
    "#t0=[0];\n",
    "#ν=[0];\n",
    "t_eff = t0./((g^3)/(ω));\n",
    "#t_eff\n",
    "ν"
   ]
  },
  {
   "cell_type": "code",
   "execution_count": 37,
   "id": "73ee7a3a-3368-4a69-91f5-ac1634256d44",
   "metadata": {},
   "outputs": [],
   "source": [
    "#Operadores \n",
    "σm = sigmam(b_spin); #bajada\n",
    "σp = sigmap(b_spin); #subida\n",
    "σz = sigmaz(b_spin); #Inversion atomica"
   ]
  },
  {
   "cell_type": "code",
   "execution_count": 38,
   "id": "5754f7f8-fc1e-4989-b58a-e24926cd7f7a",
   "metadata": {
    "tags": []
   },
   "outputs": [
    {
     "name": "stderr",
     "output_type": "stream",
     "text": [
      "┌ Warning: Interrupted. Larger maxiters is needed.\n",
      "└ @ SciMLBase C:\\Users\\PC\\.julia\\packages\\SciMLBase\\n3U0M\\src\\integrator_interface.jl:331\n",
      "┌ Warning: Interrupted. Larger maxiters is needed.\n",
      "└ @ SciMLBase C:\\Users\\PC\\.julia\\packages\\SciMLBase\\n3U0M\\src\\integrator_interface.jl:331\n"
     ]
    }
   ],
   "source": [
    "#Hamiltoniano\n",
    "Evol=[];\n",
    "\n",
    "for i=1:size(ν,1)\n",
    "    H(t, Ψ) = ((ω₁+4*g*cos(ν[i]*t))*σz/2)⊗one(b_spin)⊗one(b_spin) + one(b_spin)⊗((ω₂+4*g*cos(ν[i]*t))σz/2)⊗one(b_spin) + one(b_spin)⊗one(b_spin)⊗((ω₃+4*g*cos(ν[i]*t))σz/2)+\n",
    "    g*(σp⊗σp⊗one(b_spin)+one(b_spin)⊗σp⊗σp+σp⊗σm⊗one(b_spin)+one(b_spin)⊗σp⊗σm+σm⊗σm⊗one(b_spin)+one(b_spin)⊗σm⊗σm+σm⊗σp⊗one(b_spin)+one(b_spin)⊗σm⊗σp);\n",
    "    #Evolucion del estado\n",
    "    tout, Psit = timeevolution.schroedinger_dynamic(t_eff, Ψ0, H);\n",
    "    push!(Evol, Psit);\n",
    "end\n"
   ]
  },
  {
   "cell_type": "code",
   "execution_count": 31,
   "id": "1667b7ad-d6c7-44f9-ac73-e070a4699f18",
   "metadata": {},
   "outputs": [],
   "source": [
    "Puntos=[]\n",
    "Prob=zeros(size(ν,1),size(t0,1));\n",
    "Promedios=zeros(size(ν,1));\n",
    "\n",
    "for i=1:size(ν,1)\n",
    "    push!(Puntos,[])       \n",
    "    for j=1:size(t0,1)\n",
    "        push!(Puntos[i],Ψ5'Evol[i][j]) #Productos internos\n",
    "        Prob[i,j]=abs(Puntos[i][j])^2 #Calculo de la probabilidad\n",
    "    end\n",
    "    Promedios[i]=sum(Prob[i,:])/(2*pi/g); \n",
    "end\n"
   ]
  },
  {
   "cell_type": "code",
   "execution_count": 32,
   "id": "2e2f9b74-c92f-4d9a-b9c1-571c67fc6028",
   "metadata": {},
   "outputs": [
    {
     "name": "stdout",
     "output_type": "stream",
     "text": [
      "[0.0013223247377538035, 0.0013223208144042796]\n"
     ]
    }
   ],
   "source": [
    "println(Promedios)"
   ]
  },
  {
   "cell_type": "code",
   "execution_count": null,
   "id": "536513b2-9532-4fac-b0cf-b021421a9d90",
   "metadata": {},
   "outputs": [],
   "source": []
  }
 ],
 "metadata": {
  "kernelspec": {
   "display_name": "Julia 1.6.2",
   "language": "julia",
   "name": "julia-1.6"
  },
  "language_info": {
   "file_extension": ".jl",
   "mimetype": "application/julia",
   "name": "julia",
   "version": "1.6.2"
  }
 },
 "nbformat": 4,
 "nbformat_minor": 5
}
