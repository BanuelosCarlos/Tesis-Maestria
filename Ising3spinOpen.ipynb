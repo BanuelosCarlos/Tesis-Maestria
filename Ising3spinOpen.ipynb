{
 "cells": [
  {
   "cell_type": "code",
   "execution_count": 1,
   "id": "e91a4cd4-a044-4d2d-8d65-f51434af32c9",
   "metadata": {},
   "outputs": [],
   "source": [
    "using PyPlot\n",
    "using QuantumOptics\n",
    "using SpecialFunctions"
   ]
  },
  {
   "cell_type": "code",
   "execution_count": 8,
   "id": "d6d8036d-b0b6-4a6b-8512-817fc99d3d0c",
   "metadata": {},
   "outputs": [],
   "source": [
    "#Definimos la base\n",
    "b_spin = SpinBasis(1//2);\n",
    "#Estados\n",
    "Ψ0=spindown(b_spin)⊗spindown(b_spin)⊗spindown(b_spin);\n",
    "Ψ1=spinup(b_spin)⊗spindown(b_spin)⊗spindown(b_spin);\n",
    "Ψ2=spindown(b_spin)⊗spinup(b_spin)⊗spindown(b_spin);\n",
    "Ψ3=spinup(b_spin)⊗spinup(b_spin)⊗spindown(b_spin);\n",
    "Ψ4=spindown(b_spin)⊗spindown(b_spin)⊗spinup(b_spin);\n",
    "Ψ5=spinup(b_spin)⊗spindown(b_spin)⊗spinup(b_spin);\n",
    "Ψ6=spindown(b_spin)⊗spinup(b_spin)⊗spinup(b_spin);\n",
    "Ψ7=spinup(b_spin)⊗spinup(b_spin)⊗spinup(b_spin);"
   ]
  },
  {
   "cell_type": "code",
   "execution_count": 9,
   "id": "73ee7a3a-3368-4a69-91f5-ac1634256d44",
   "metadata": {},
   "outputs": [],
   "source": [
    "#Operadores \n",
    "σm = sigmam(b_spin); #bajada\n",
    "σp = sigmap(b_spin); #subida\n",
    "σz = sigmaz(b_spin); #Inversion atomica"
   ]
  },
  {
   "cell_type": "code",
   "execution_count": 40,
   "id": "80f4c3e5-7e0d-4401-b53a-c5a89bad8da2",
   "metadata": {},
   "outputs": [
    {
     "data": {
      "text/plain": [
       "2.49455912508374"
      ]
     },
     "execution_count": 40,
     "metadata": {},
     "output_type": "execute_result"
    }
   ],
   "source": [
    "#Parametros\n",
    "#frecuecnias\n",
    "ω = 0.5;\n",
    "ω₁ = ω;\n",
    "ω₂ = 2*ω;\n",
    "ω₃ = 4*ω;\n",
    "#demas\n",
    "δ = 20/(5/2) # G campo = 20, ν = 5/2\n",
    "g = 0.05\n",
    "\n",
    "#Calculando el reescalado\n",
    "bessSum = 0;\n",
    "for i=1:10\n",
    "    bessSum+=(-1)^i * besseljx(i,δ);\n",
    "end\n",
    "g_p=2*bessSum*(g)^2/ω\n",
    "\n",
    "#Calculando correccion ν\n",
    "SumBessFrec = 0;\n",
    "\n",
    "for i=1:10\n",
    "    SumBessFrec+=(besseljx(i,δ)^2)*(20*i/ω)*(1/(9-25*i^2)+(1/(36-25*i^2);));\n",
    "end\n",
    "\n",
    "ν_eff = 5/2 + g^2*(besselj0(δ)^2)/ω - g^2/ω + g^2*SumBessFrec\n",
    "\n",
    "#vectores para correr el sistema\n",
    "ν=Array(5/2-0.01:0.00005:5/2+0.01);\n",
    "t0 = Array(0:0.01:2*pi);\n",
    "#t0=[0];\n",
    "#ν=[0];\n",
    "resc = (5*ω*ω/2)/(g/2)^2\n",
    "t_eff = t0*resc;\n",
    "t_eff;\n",
    "ν_eff"
   ]
  },
  {
   "cell_type": "code",
   "execution_count": 37,
   "id": "5822d0ec-7b72-4b1e-9781-e259b0f58019",
   "metadata": {},
   "outputs": [
    {
     "data": {
      "text/plain": [
       "2.0"
      ]
     },
     "execution_count": 37,
     "metadata": {},
     "output_type": "execute_result"
    }
   ],
   "source": [
    "1/ω"
   ]
  },
  {
   "cell_type": "code",
   "execution_count": 41,
   "id": "5754f7f8-fc1e-4989-b58a-e24926cd7f7a",
   "metadata": {
    "tags": []
   },
   "outputs": [
    {
     "ename": "LoadError",
     "evalue": "UndefVarError: Ψ0 not defined",
     "output_type": "error",
     "traceback": [
      "UndefVarError: Ψ0 not defined",
      "",
      "Stacktrace:",
      " [1] top-level scope",
      "   @ In[41]:8",
      " [2] eval",
      "   @ .\\boot.jl:360 [inlined]",
      " [3] include_string(mapexpr::typeof(REPL.softscope), mod::Module, code::String, filename::String)",
      "   @ Base .\\loading.jl:1116"
     ]
    }
   ],
   "source": [
    "#Hamiltoniano\n",
    "Evol=[];\n",
    "\n",
    "for i=1:size(ν,1)\n",
    "    H(t, Ψ) = ((ω₁+g*cos(ν[i]*t))σz/2)⊗one(b_spin)⊗one(b_spin) + one(b_spin)⊗((ω₂+g*cos(ν[i]*t))σz/2)⊗one(b_spin) + one(b_spin)⊗one(b_spin)⊗((ω₃+g*cos(ν[i]*t))*σz/2)+\n",
    "    (g/4)*(σp⊗σp⊗one(b_spin)+one(b_spin)⊗σp⊗σp+σp⊗σm⊗one(b_spin)+one(b_spin)⊗σp⊗σm+σm⊗σm⊗one(b_spin)+one(b_spin)⊗σm⊗σm+σm⊗σp⊗one(b_spin)+one(b_spin)⊗σm⊗σp);\n",
    "    #Evolucion del estado\n",
    "    tout, Psit = timeevolution.schroedinger_dynamic(t_eff, Ψ0, H);\n",
    "    push!(Evol, Psit);\n",
    "    println(i)\n",
    "end\n",
    "\n",
    "Puntos=[]\n",
    "Prob=zeros(size(ν,1),size(t0,1));\n",
    "Promedios=zeros(size(ν,1));\n",
    "\n",
    "for i=1:size(ν,1)\n",
    "    push!(Puntos,[])       \n",
    "    for j=1:size(t0,1)\n",
    "        push!(Puntos[i],Ψ5'Evol[i][j]) #Productos internos\n",
    "        Prob[i,j]=abs(Puntos[i][j])^2 #Calculo de la probabilidad\n",
    "    end\n",
    "end\n",
    "\n",
    "plot(ν,Promedios)"
   ]
  },
  {
   "cell_type": "code",
   "execution_count": null,
   "id": "1667b7ad-d6c7-44f9-ac73-e070a4699f18",
   "metadata": {},
   "outputs": [],
   "source": [
    "Puntos=[]\n",
    "Prob=zeros(size(ν,1),size(t0,1));\n",
    "Promedios=zeros(size(ν,1));\n",
    "\n",
    "for i=1:size(ν,1)\n",
    "    push!(Puntos,[])       \n",
    "    for j=1:size(t0,1)\n",
    "        push!(Puntos[i],Ψ5'Evol[i][j]) #Productos internos\n",
    "        Prob[i,j]=abs(Puntos[i][j])^2 #Calculo de la probabilidad\n",
    "    end\n",
    "    Promedios[i]=sum(Prob[i,:])/(2*pi/g); \n",
    "end\n"
   ]
  },
  {
   "cell_type": "code",
   "execution_count": null,
   "id": "2e2f9b74-c92f-4d9a-b9c1-571c67fc6028",
   "metadata": {},
   "outputs": [],
   "source": [
    "println(Promedios)"
   ]
  },
  {
   "cell_type": "code",
   "execution_count": null,
   "id": "536513b2-9532-4fac-b0cf-b021421a9d90",
   "metadata": {},
   "outputs": [],
   "source": [
    "plot(ν,Promedios)"
   ]
  }
 ],
 "metadata": {
  "kernelspec": {
   "display_name": "Julia 1.6.2",
   "language": "julia",
   "name": "julia-1.6"
  },
  "language_info": {
   "file_extension": ".jl",
   "mimetype": "application/julia",
   "name": "julia",
   "version": "1.6.2"
  }
 },
 "nbformat": 4,
 "nbformat_minor": 5
}
