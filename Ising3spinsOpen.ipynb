{
 "cells": [
  {
   "cell_type": "code",
   "execution_count": 1,
   "id": "3d7fad52-6737-421d-aed6-824ba5eb1be8",
   "metadata": {},
   "outputs": [],
   "source": [
    "using PyPlot\n",
    "using QuantumOptics\n",
    "using SpecialFunctions"
   ]
  },
  {
   "cell_type": "code",
   "execution_count": 2,
   "id": "fd5fb501-d458-4b02-b155-0cc5598bd617",
   "metadata": {},
   "outputs": [],
   "source": [
    "#Definimos la base\n",
    "b_spin = SpinBasis(1//2);\n",
    "#Estados\n",
    "Ψ0=spindown(b_spin)⊗spindown(b_spin)⊗spindown(b_spin);\n",
    "Ψ1=spinup(b_spin)⊗spindown(b_spin)⊗spindown(b_spin);\n",
    "Ψ2=spindown(b_spin)⊗spinup(b_spin)⊗spindown(b_spin);\n",
    "Ψ3=spinup(b_spin)⊗spinup(b_spin)⊗spindown(b_spin);\n",
    "Ψ4=spindown(b_spin)⊗spindown(b_spin)⊗spinup(b_spin);\n",
    "Ψ5=spinup(b_spin)⊗spindown(b_spin)⊗spinup(b_spin);\n",
    "Ψ6=spindown(b_spin)⊗spinup(b_spin)⊗spinup(b_spin);\n",
    "Ψ7=spinup(b_spin)⊗spinup(b_spin)⊗spinup(b_spin);"
   ]
  },
  {
   "cell_type": "code",
   "execution_count": 3,
   "id": "1e72fc37-1293-47e5-a70f-52f2b5e870c6",
   "metadata": {},
   "outputs": [],
   "source": [
    "#Operadores \n",
    "σm = sigmam(b_spin); #bajada\n",
    "σp = sigmap(b_spin); #subida\n",
    "σz = sigmaz(b_spin); #Inversion atomica"
   ]
  },
  {
   "cell_type": "code",
   "execution_count": 18,
   "id": "c8389fb6-d250-497d-9d66-aa2e38d65cba",
   "metadata": {},
   "outputs": [
    {
     "data": {
      "text/plain": [
       "2.496687370812016"
      ]
     },
     "execution_count": 18,
     "metadata": {},
     "output_type": "execute_result"
    }
   ],
   "source": [
    "#Parametros\n",
    "#frecuecnias\n",
    "ω = 0.5;\n",
    "ω₁ = ω;\n",
    "ω₂ = 2*ω;\n",
    "ω₃ = 4*ω;\n",
    "#demas\n",
    "gc = 10\n",
    "δ = gc/(5/2) # G campo = 20, ν = 5/2\n",
    "g = 0.05\n",
    "\n",
    "#Calculando el reescalado\n",
    "bessSum = 0;\n",
    "for i=1:10\n",
    "    bessSum+=(-1)^i * besseljx(i,δ);\n",
    "end\n",
    "g_p=2*bessSum*(g)^2/ω\n",
    "\n",
    "#Calculando correccion ν\n",
    "SumBessFrec = 0;\n",
    "\n",
    "for i=1:10\n",
    "    SumBessFrec+=(besseljx(i,δ)^2)*(20*i/ω)*(1/(9-25*i^2)+(1/(36-25*i^2);));\n",
    "end\n",
    "\n",
    "ν_eff = 5/2 + g^2*((besselj0(δ)^2)/ω - 1/ω + SumBessFrec)\n",
    "ancho = 5/2-ν_eff\n",
    "#vectores para correr el sistema\n",
    "ν=Array(5/2-2*ancho:ancho/70:5/2+2*ancho);\n",
    "t0 = Array(0:0.01:2*pi);\n",
    "#t0=[0];\n",
    "#ν=[0];\n",
    "resc = 2/g_p\n",
    "t_eff = t0*resc;\n",
    "ν[100]"
   ]
  },
  {
   "cell_type": "code",
   "execution_count": 7,
   "id": "862f23fc-3317-49a8-9ed3-a57bb0e9542c",
   "metadata": {},
   "outputs": [
    {
     "data": {
      "text/plain": [
       "0.0018620782299468067"
      ]
     },
     "execution_count": 7,
     "metadata": {},
     "output_type": "execute_result"
    }
   ],
   "source": [
    "g_p"
   ]
  },
  {
   "cell_type": "code",
   "execution_count": 9,
   "id": "867c56cd-25a6-47fc-abec-96d3bde2b0a7",
   "metadata": {},
   "outputs": [
    {
     "name": "stdout",
     "output_type": "stream",
     "text": [
      "3.660091208260163e-5\n"
     ]
    }
   ],
   "source": [
    "bessSum1 = 0;\n",
    "for i=1:10\n",
    "    bessSum1+=(-1)^i * besseljx(i,δ);\n",
    "    \n",
    "end\n",
    "bessSum2 = 0;\n",
    "for i=1:11\n",
    "    bessSum2+=(-1)^i * besseljx(i,δ);\n",
    "    #println(bessSum1)\n",
    "end\n",
    "println(bessSum1-bessSum2)"
   ]
  },
  {
   "cell_type": "code",
   "execution_count": 5,
   "id": "89522620-c906-45d4-a81f-1bae044656cf",
   "metadata": {},
   "outputs": [
    {
     "ename": "LoadError",
     "evalue": "syntax: \"\\\" is not a unary operator",
     "output_type": "error",
     "traceback": [
      "syntax: \"\\\" is not a unary operator",
      "",
      "Stacktrace:",
      " [1] top-level scope",
      "   @ In[5]:5",
      " [2] eval",
      "   @ ./boot.jl:360 [inlined]",
      " [3] include_string(mapexpr::typeof(REPL.softscope), mod::Module, code::String, filename::String)",
      "   @ Base ./loading.jl:1116"
     ]
    }
   ],
   "source": [
    "#Hamiltoniano\n",
    "Evol=[];\n",
    "\n",
    "for i=1:size(ν,1)\n",
    "    H(t, Ψ) = ((ω₁+gc*cos(ν[i]*t))σz/2)⊗one(b_spin)⊗one(b_spin) + one(b_spin)⊗((ω₂+gc*cos(ν[i]*t))σz/2)⊗one(b_spin) + one(b_spin)⊗one(b_spin)⊗((ω₃+gc*cos(ν[i]*t)σz/2)+\n",
    "    (g/4)*(σp⊗σp⊗one(b_spin)+one(b_spin)⊗σp⊗σp+σp⊗σm⊗one(b_spin)+one(b_spin)⊗σp⊗σm+σm⊗σm⊗one(b_spin)+one(b_spin)⊗σm⊗σm+σm⊗σp⊗one(b_spin)+one(b_spin)⊗σm⊗σp);\n",
    "    #Evolucion del estado\n",
    "    tout, Psit = timeevolution.schroedinger_dynamic(t_eff, Ψ0, H);\n",
    "    push!(Evol, Psit);\n",
    "end\n",
    "    \n",
    "Puntos=[]\n",
    "Prob=zeros(size(ν,1),size(t0,1));\n",
    "Promedios=zeros(size(ν,1));\n",
    "\n",
    "for i=1:size(ν,1)\n",
    "    push!(Puntos,[])       \n",
    "    for j=1:size(t0,1)\n",
    "        push!(Puntos[i],Ψ5'Evol[i][j]) #Productos internos\n",
    "        Prob[i,j]=abs(Puntos[i][j])^2 #Calculo de la probabilidad\n",
    "    end\n",
    "    Promedios[i]=sum(Prob[i,:])/(4*pi/g); \n",
    "end\n",
    "\n",
    "#plot(ν,Promedios)\n",
    "#print(Promedios)"
   ]
  },
  {
   "cell_type": "code",
   "execution_count": 6,
   "id": "63c01734-4fe9-4859-a637-f42229672917",
   "metadata": {},
   "outputs": [],
   "source": [
    "\n",
    "H(t, Ψ) = ((ω₁+g*cos(5*ω*(t./g_p)))σz/2)⊗one(b_spin)⊗one(b_spin) + one(b_spin)⊗((ω₂+g*cos(5*ω*(t./g_p)))σz/2)⊗one(b_spin) + one(b_spin)⊗one(b_spin)⊗((ω₃+g*cos(5*ω*(t./g_p)))σz/2)+(g/4)*(σp⊗σp⊗one(b_spin)+one(b_spin)⊗σp⊗σp+σp⊗σm⊗one(b_spin)+one(b_spin)⊗σp⊗σm+σm⊗σm⊗one(b_spin)+one(b_spin)⊗σm⊗σm+σm⊗σp⊗one(b_spin)+one(b_spin)⊗σm⊗σp);\n",
    "    #Evolucion del estado\n",
    "tout, Psit = timeevolution.schroedinger_dynamic(t0, Ψ0, H);\n"
   ]
  },
  {
   "cell_type": "code",
   "execution_count": 7,
   "id": "7926f65b-9e9d-4883-9741-7a5919071e1d",
   "metadata": {},
   "outputs": [
    {
     "data": {
      "text/plain": [
       "1.0003298582258988"
      ]
     },
     "execution_count": 7,
     "metadata": {},
     "output_type": "execute_result"
    }
   ],
   "source": [
    "abs(Ψ0'Psit[315])^2"
   ]
  },
  {
   "cell_type": "code",
   "execution_count": null,
   "id": "9dd20c42-f93d-4ba8-8147-7b99c919968e",
   "metadata": {},
   "outputs": [],
   "source": [
    "σz"
   ]
  }
 ],
 "metadata": {
  "kernelspec": {
   "display_name": "Julia 1.6.3",
   "language": "julia",
   "name": "julia-1.6"
  },
  "language_info": {
   "file_extension": ".jl",
   "mimetype": "application/julia",
   "name": "julia",
   "version": "1.6.3"
  }
 },
 "nbformat": 4,
 "nbformat_minor": 5
}
