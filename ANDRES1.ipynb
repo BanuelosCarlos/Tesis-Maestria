{
 "cells": [
  {
   "cell_type": "code",
   "execution_count": 1,
   "id": "43bd1c31-c649-4ecd-95e8-149a7c7131d2",
   "metadata": {},
   "outputs": [],
   "source": [
    "using QuantumOptics\n",
    "using PyPlot\n",
    "using SpecialFunctions"
   ]
  },
  {
   "cell_type": "code",
   "execution_count": 12,
   "id": "8c0f5ccd-0645-4e0e-ad08-3dcca2c5cf7f",
   "metadata": {},
   "outputs": [
    {
     "data": {
      "text/plain": [
       "Figure(PyObject <Figure size 640x480 with 1 Axes>)"
      ]
     },
     "metadata": {},
     "output_type": "display_data"
    },
    {
     "data": {
      "text/plain": [
       "1-element Vector{PyCall.PyObject}:\n",
       " PyObject <matplotlib.lines.Line2D object at 0x0000000000E6C430>"
      ]
     },
     "execution_count": 12,
     "metadata": {},
     "output_type": "execute_result"
    }
   ],
   "source": [
    "global suma\n",
    "################\n",
    "#plt.rc(\"text\", usetex=true)\n",
    "#PyCall.PyDict(plt.\"rcParams\")[\"text.latex.preamble\"] = [raw\"\\usepackage{amsmath}\"]\n",
    "#rcParams = PyPlot.PyDict(PyPlot.matplotlib.\"rcParams\")\n",
    "#font0 = Dict(\n",
    "#            \"font.size\" => 16,\n",
    "##        \"axes.labelweight\" => \"bold\",\n",
    "#            \"axes.labelsize\" => 16,\n",
    "#            \"xtick.labelsize\" => 13,\n",
    "#            \"ytick.labelsize\" => 13,\n",
    "#            \"legend.fontsize\" => 16,\n",
    "#)\n",
    "# merge!(rcParams, font0)\n",
    "#############################################################\n",
    "# Definiendo los parámetros\n",
    "Escala = 1;\n",
    "ωb = 10\n",
    "ωa =  ωb / 2\n",
    "Ep = 0.9\n",
    "g = 0.1\n",
    "l = 1\n",
    "l1=0\n",
    "suma=0;\n",
    "suma1=0;\n",
    "suma2=0;\n",
    "while l <= 10\n",
    "           suma1 =  suma1 + (besselj(l, Ep)^2) / ((ωa+ωb)^2-(l^2)*(2*ωb)^2)\n",
    "           suma2 =  suma2 + (besselj(l, Ep)^2) / ((ωa-ωb)^2-(l^2)*(2*ωb)^2)\n",
    "           global l += 1\n",
    "           global suma1\n",
    "           global suma2\n",
    "end\n",
    "Nu = 2 * (ωb-((g^2) * ωa * (besselj(0, Ep))^2)/(ωa^2-ωb^2) - (ωa+ωb)*(g^2)*suma1 - (ωa-ωb)*(g^2)*suma2)\n",
    "gama = Ep * Nu / ωa\n",
    "while l1 <= 20\n",
    "           suma =  suma + ((2*l1+1) * besselj(l1, Ep) * besselj(l1 + 1, Ep)) / (ωa^2 - ωb^2*(2*l1+1)^2)\n",
    "           #suma =  suma + (besselj(l1, Ep) * besselj(l1 + 1, Ep)) / (ωa^2-(ωb + l1 * Nu)^2)\n",
    "           global l1 += 1\n",
    "           global suma\n",
    "end\n",
    "geff = -2 * (g^2) * ωb * suma\n",
    "# Definiendo las bases para la cavidad(Fock)\n",
    "bc = FockBasis(10)\n",
    "# Construcción de operadores\n",
    "a = destroy(bc) ⊗ one(bc)\n",
    "b =  one(bc) ⊗ destroy(bc)\n",
    "na = number(bc) ⊗ one(bc)\n",
    "nb =  one(bc) ⊗ number(bc)\n",
    "# Definición del estado inicial\n",
    "ψ₀ =  fockstate(bc::FockBasis, 0) ⊗ fockstate(bc::FockBasis, 0)\n",
    "# = coherentstate(bc, α) ⊗ coherentstate(bc, α)\n",
    "ψ1 =  fockstate(bc::FockBasis, 2) ⊗ fockstate(bc::FockBasis, 0)\n",
    "# = coherentstate(bc, 2) ⊗ coherentstate(bc, α)\n",
    "# Defición de lista de pasos temporales\n",
    "T = [0:0.1:400;]\n",
    "# Componentes del Hamiltoniano\n",
    " H0 = ωb * nb\n",
    " H1 = g * (a + dagger(a)) * (b + dagger(b))\n",
    " function Hₜ(t, ρ) # time-dependent Hamiltonian\n",
    "   H = ωa * ( 1 + gama * cos(Nu*t)) * na + H0 + H1\n",
    "   return H\n",
    "end\n",
    " tout, ψₜ = timeevolution.schroedinger_dynamic(T,ψ₀, Hₜ)\n",
    " # ψₜ = Escala * ψₜ\n",
    " NFot = real(expect(nb,  ψₜ))\n",
    "                #AA = projector(ψ1::Ket)\n",
    "                 #ProbA = real(expect(AA, ψₜ))\n",
    "                   #Prob02 = sum(ProbA) /(Escala * length(ProbA))\n",
    "#figure()\n",
    "plot(10*geff * T,NFot)\n",
    "plot(10*geff * T,(Escala * (sinh.(-2*geff*T)).^2),\"k--\")\n",
    "#xlabel(L\"$g_{eff}t$\")\n",
    "#ylabel(L\"\\langle n_{b} \\rangle\")\n",
    "#savefig(\"ImageAP2021.eps\")\n",
    "#close()\n"
   ]
  },
  {
   "cell_type": "code",
   "execution_count": null,
   "id": "933838c1-c477-45e5-9a0a-64b304b034c3",
   "metadata": {},
   "outputs": [],
   "source": []
  }
 ],
 "metadata": {
  "kernelspec": {
   "display_name": "Julia 1.6.2",
   "language": "julia",
   "name": "julia-1.6"
  },
  "language_info": {
   "file_extension": ".jl",
   "mimetype": "application/julia",
   "name": "julia",
   "version": "1.6.2"
  }
 },
 "nbformat": 4,
 "nbformat_minor": 5
}
